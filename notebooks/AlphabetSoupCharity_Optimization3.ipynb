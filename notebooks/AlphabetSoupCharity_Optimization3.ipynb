{
  "cells": [
    {
      "cell_type": "markdown",
      "metadata": {
        "id": "2WsaHnoZPhkI"
      },
      "source": [
        "## Preprocessing"
      ]
    },
    {
      "cell_type": "code",
      "execution_count": 1,
      "metadata": {
        "colab": {
          "base_uri": "https://localhost:8080/",
          "height": 354
        },
        "id": "jWhu7ho-PhkL",
        "outputId": "f5326c00-ff95-4081-c749-d83701348aeb"
      },
      "outputs": [
        {
          "output_type": "stream",
          "name": "stdout",
          "text": [
            "Drive already mounted at /content/drive; to attempt to forcibly remount, call drive.mount(\"/content/drive\", force_remount=True).\n"
          ]
        },
        {
          "output_type": "execute_result",
          "data": {
            "text/plain": [
              "        EIN                                      NAME APPLICATION_TYPE  \\\n",
              "0  10520599              BLUE KNIGHTS MOTORCYCLE CLUB              T10   \n",
              "1  10531628    AMERICAN CHESAPEAKE CLUB CHARITABLE TR               T3   \n",
              "2  10547893        ST CLOUD PROFESSIONAL FIREFIGHTERS               T5   \n",
              "3  10553066            SOUTHSIDE ATHLETIC ASSOCIATION               T3   \n",
              "4  10556103  GENETIC RESEARCH INSTITUTE OF THE DESERT               T3   \n",
              "\n",
              "        AFFILIATION CLASSIFICATION      USE_CASE  ORGANIZATION  STATUS  \\\n",
              "0       Independent          C1000    ProductDev   Association       1   \n",
              "1       Independent          C2000  Preservation  Co-operative       1   \n",
              "2  CompanySponsored          C3000    ProductDev   Association       1   \n",
              "3  CompanySponsored          C2000  Preservation         Trust       1   \n",
              "4       Independent          C1000     Heathcare         Trust       1   \n",
              "\n",
              "      INCOME_AMT SPECIAL_CONSIDERATIONS  ASK_AMT  IS_SUCCESSFUL  \n",
              "0              0                      N     5000              1  \n",
              "1         1-9999                      N   108590              1  \n",
              "2              0                      N     5000              0  \n",
              "3    10000-24999                      N     6692              1  \n",
              "4  100000-499999                      N   142590              1  "
            ],
            "text/html": [
              "\n",
              "  <div id=\"df-9266697e-d756-462d-b0f5-ab9151a3ff0a\">\n",
              "    <div class=\"colab-df-container\">\n",
              "      <div>\n",
              "<style scoped>\n",
              "    .dataframe tbody tr th:only-of-type {\n",
              "        vertical-align: middle;\n",
              "    }\n",
              "\n",
              "    .dataframe tbody tr th {\n",
              "        vertical-align: top;\n",
              "    }\n",
              "\n",
              "    .dataframe thead th {\n",
              "        text-align: right;\n",
              "    }\n",
              "</style>\n",
              "<table border=\"1\" class=\"dataframe\">\n",
              "  <thead>\n",
              "    <tr style=\"text-align: right;\">\n",
              "      <th></th>\n",
              "      <th>EIN</th>\n",
              "      <th>NAME</th>\n",
              "      <th>APPLICATION_TYPE</th>\n",
              "      <th>AFFILIATION</th>\n",
              "      <th>CLASSIFICATION</th>\n",
              "      <th>USE_CASE</th>\n",
              "      <th>ORGANIZATION</th>\n",
              "      <th>STATUS</th>\n",
              "      <th>INCOME_AMT</th>\n",
              "      <th>SPECIAL_CONSIDERATIONS</th>\n",
              "      <th>ASK_AMT</th>\n",
              "      <th>IS_SUCCESSFUL</th>\n",
              "    </tr>\n",
              "  </thead>\n",
              "  <tbody>\n",
              "    <tr>\n",
              "      <th>0</th>\n",
              "      <td>10520599</td>\n",
              "      <td>BLUE KNIGHTS MOTORCYCLE CLUB</td>\n",
              "      <td>T10</td>\n",
              "      <td>Independent</td>\n",
              "      <td>C1000</td>\n",
              "      <td>ProductDev</td>\n",
              "      <td>Association</td>\n",
              "      <td>1</td>\n",
              "      <td>0</td>\n",
              "      <td>N</td>\n",
              "      <td>5000</td>\n",
              "      <td>1</td>\n",
              "    </tr>\n",
              "    <tr>\n",
              "      <th>1</th>\n",
              "      <td>10531628</td>\n",
              "      <td>AMERICAN CHESAPEAKE CLUB CHARITABLE TR</td>\n",
              "      <td>T3</td>\n",
              "      <td>Independent</td>\n",
              "      <td>C2000</td>\n",
              "      <td>Preservation</td>\n",
              "      <td>Co-operative</td>\n",
              "      <td>1</td>\n",
              "      <td>1-9999</td>\n",
              "      <td>N</td>\n",
              "      <td>108590</td>\n",
              "      <td>1</td>\n",
              "    </tr>\n",
              "    <tr>\n",
              "      <th>2</th>\n",
              "      <td>10547893</td>\n",
              "      <td>ST CLOUD PROFESSIONAL FIREFIGHTERS</td>\n",
              "      <td>T5</td>\n",
              "      <td>CompanySponsored</td>\n",
              "      <td>C3000</td>\n",
              "      <td>ProductDev</td>\n",
              "      <td>Association</td>\n",
              "      <td>1</td>\n",
              "      <td>0</td>\n",
              "      <td>N</td>\n",
              "      <td>5000</td>\n",
              "      <td>0</td>\n",
              "    </tr>\n",
              "    <tr>\n",
              "      <th>3</th>\n",
              "      <td>10553066</td>\n",
              "      <td>SOUTHSIDE ATHLETIC ASSOCIATION</td>\n",
              "      <td>T3</td>\n",
              "      <td>CompanySponsored</td>\n",
              "      <td>C2000</td>\n",
              "      <td>Preservation</td>\n",
              "      <td>Trust</td>\n",
              "      <td>1</td>\n",
              "      <td>10000-24999</td>\n",
              "      <td>N</td>\n",
              "      <td>6692</td>\n",
              "      <td>1</td>\n",
              "    </tr>\n",
              "    <tr>\n",
              "      <th>4</th>\n",
              "      <td>10556103</td>\n",
              "      <td>GENETIC RESEARCH INSTITUTE OF THE DESERT</td>\n",
              "      <td>T3</td>\n",
              "      <td>Independent</td>\n",
              "      <td>C1000</td>\n",
              "      <td>Heathcare</td>\n",
              "      <td>Trust</td>\n",
              "      <td>1</td>\n",
              "      <td>100000-499999</td>\n",
              "      <td>N</td>\n",
              "      <td>142590</td>\n",
              "      <td>1</td>\n",
              "    </tr>\n",
              "  </tbody>\n",
              "</table>\n",
              "</div>\n",
              "      <button class=\"colab-df-convert\" onclick=\"convertToInteractive('df-9266697e-d756-462d-b0f5-ab9151a3ff0a')\"\n",
              "              title=\"Convert this dataframe to an interactive table.\"\n",
              "              style=\"display:none;\">\n",
              "        \n",
              "  <svg xmlns=\"http://www.w3.org/2000/svg\" height=\"24px\"viewBox=\"0 0 24 24\"\n",
              "       width=\"24px\">\n",
              "    <path d=\"M0 0h24v24H0V0z\" fill=\"none\"/>\n",
              "    <path d=\"M18.56 5.44l.94 2.06.94-2.06 2.06-.94-2.06-.94-.94-2.06-.94 2.06-2.06.94zm-11 1L8.5 8.5l.94-2.06 2.06-.94-2.06-.94L8.5 2.5l-.94 2.06-2.06.94zm10 10l.94 2.06.94-2.06 2.06-.94-2.06-.94-.94-2.06-.94 2.06-2.06.94z\"/><path d=\"M17.41 7.96l-1.37-1.37c-.4-.4-.92-.59-1.43-.59-.52 0-1.04.2-1.43.59L10.3 9.45l-7.72 7.72c-.78.78-.78 2.05 0 2.83L4 21.41c.39.39.9.59 1.41.59.51 0 1.02-.2 1.41-.59l7.78-7.78 2.81-2.81c.8-.78.8-2.07 0-2.86zM5.41 20L4 18.59l7.72-7.72 1.47 1.35L5.41 20z\"/>\n",
              "  </svg>\n",
              "      </button>\n",
              "      \n",
              "  <style>\n",
              "    .colab-df-container {\n",
              "      display:flex;\n",
              "      flex-wrap:wrap;\n",
              "      gap: 12px;\n",
              "    }\n",
              "\n",
              "    .colab-df-convert {\n",
              "      background-color: #E8F0FE;\n",
              "      border: none;\n",
              "      border-radius: 50%;\n",
              "      cursor: pointer;\n",
              "      display: none;\n",
              "      fill: #1967D2;\n",
              "      height: 32px;\n",
              "      padding: 0 0 0 0;\n",
              "      width: 32px;\n",
              "    }\n",
              "\n",
              "    .colab-df-convert:hover {\n",
              "      background-color: #E2EBFA;\n",
              "      box-shadow: 0px 1px 2px rgba(60, 64, 67, 0.3), 0px 1px 3px 1px rgba(60, 64, 67, 0.15);\n",
              "      fill: #174EA6;\n",
              "    }\n",
              "\n",
              "    [theme=dark] .colab-df-convert {\n",
              "      background-color: #3B4455;\n",
              "      fill: #D2E3FC;\n",
              "    }\n",
              "\n",
              "    [theme=dark] .colab-df-convert:hover {\n",
              "      background-color: #434B5C;\n",
              "      box-shadow: 0px 1px 3px 1px rgba(0, 0, 0, 0.15);\n",
              "      filter: drop-shadow(0px 1px 2px rgba(0, 0, 0, 0.3));\n",
              "      fill: #FFFFFF;\n",
              "    }\n",
              "  </style>\n",
              "\n",
              "      <script>\n",
              "        const buttonEl =\n",
              "          document.querySelector('#df-9266697e-d756-462d-b0f5-ab9151a3ff0a button.colab-df-convert');\n",
              "        buttonEl.style.display =\n",
              "          google.colab.kernel.accessAllowed ? 'block' : 'none';\n",
              "\n",
              "        async function convertToInteractive(key) {\n",
              "          const element = document.querySelector('#df-9266697e-d756-462d-b0f5-ab9151a3ff0a');\n",
              "          const dataTable =\n",
              "            await google.colab.kernel.invokeFunction('convertToInteractive',\n",
              "                                                     [key], {});\n",
              "          if (!dataTable) return;\n",
              "\n",
              "          const docLinkHtml = 'Like what you see? Visit the ' +\n",
              "            '<a target=\"_blank\" href=https://colab.research.google.com/notebooks/data_table.ipynb>data table notebook</a>'\n",
              "            + ' to learn more about interactive tables.';\n",
              "          element.innerHTML = '';\n",
              "          dataTable['output_type'] = 'display_data';\n",
              "          await google.colab.output.renderOutput(dataTable, element);\n",
              "          const docLink = document.createElement('div');\n",
              "          docLink.innerHTML = docLinkHtml;\n",
              "          element.appendChild(docLink);\n",
              "        }\n",
              "      </script>\n",
              "    </div>\n",
              "  </div>\n",
              "  "
            ]
          },
          "metadata": {},
          "execution_count": 1
        }
      ],
      "source": [
        "# Import our dependencies\n",
        "import os\n",
        "from sklearn.model_selection import train_test_split\n",
        "from sklearn.preprocessing import StandardScaler\n",
        "import pandas as pd\n",
        "import tensorflow as tf\n",
        "from tensorflow.keras.callbacks import ModelCheckpoint\n",
        "import warnings\n",
        "warnings.filterwarnings('ignore')\n",
        "from google.colab import drive\n",
        "drive.mount('/content/drive')\n",
        "csv_path = '/content/drive/MyDrive/deep-learning-challenge/Resources/charity_data.csv'\n",
        "\n",
        "\n",
        "\n",
        "#  Import and read the charity_data.csv. \n",
        "application_df = pd.read_csv(csv_path)\n",
        "application_df.head()"
      ]
    },
    {
      "cell_type": "code",
      "execution_count": 2,
      "metadata": {
        "id": "M-NebdjiPhkN"
      },
      "outputs": [],
      "source": [
        "# Drop the non-beneficial ID columns, 'EIN'.\n",
        "application_df = application_df.drop(['EIN'], axis=1)"
      ]
    },
    {
      "cell_type": "code",
      "source": [
        "# Look at NAMES value counts for binning\n",
        "counts = application_df['NAME'].value_counts()\n",
        "counts"
      ],
      "metadata": {
        "id": "5FOjdPc8Ucgm",
        "outputId": "f7933529-054f-4aab-ca2c-bbe70d972d32",
        "colab": {
          "base_uri": "https://localhost:8080/"
        }
      },
      "execution_count": 3,
      "outputs": [
        {
          "output_type": "execute_result",
          "data": {
            "text/plain": [
              "PARENT BOOSTER USA INC                                                  1260\n",
              "TOPS CLUB INC                                                            765\n",
              "UNITED STATES BOWLING CONGRESS INC                                       700\n",
              "WASHINGTON STATE UNIVERSITY                                              492\n",
              "AMATEUR ATHLETIC UNION OF THE UNITED STATES INC                          408\n",
              "                                                                        ... \n",
              "ST LOUIS SLAM WOMENS FOOTBALL                                              1\n",
              "AIESEC ALUMNI IBEROAMERICA CORP                                            1\n",
              "WEALLBLEEDRED ORG INC                                                      1\n",
              "AMERICAN SOCIETY FOR STANDARDS IN MEDIUMSHIP & PSYCHICAL INVESTIGATI       1\n",
              "WATERHOUSE CHARITABLE TR                                                   1\n",
              "Name: NAME, Length: 19568, dtype: int64"
            ]
          },
          "metadata": {},
          "execution_count": 3
        }
      ]
    },
    {
      "cell_type": "code",
      "execution_count": 4,
      "metadata": {
        "colab": {
          "base_uri": "https://localhost:8080/"
        },
        "id": "eCWKEuFoPhkO",
        "outputId": "bfcd2092-27b8-42fe-cc82-c44e23293452"
      },
      "outputs": [
        {
          "output_type": "execute_result",
          "data": {
            "text/plain": [
              "Other                                      21022\n",
              "PARENT BOOSTER USA INC                      1260\n",
              "TOPS CLUB INC                                765\n",
              "UNITED STATES BOWLING CONGRESS INC           700\n",
              "WASHINGTON STATE UNIVERSITY                  492\n",
              "                                           ...  \n",
              "CASCADE 4-H FOUNDATION                        10\n",
              "FREE & ACCEPTED MASONS OF WASHINGTON          10\n",
              "NEW MEXICO GARDEN CLUBS INC                   10\n",
              "NATIONAL ASSOCIATION OF HISPANIC NURSES       10\n",
              "UNION OF CALIFORNIA STATE WORKERS             10\n",
              "Name: NAME, Length: 223, dtype: int64"
            ]
          },
          "metadata": {},
          "execution_count": 4
        }
      ],
      "source": [
        "# Choose a cutoff value and create a list of NAMES to be replaced\n",
        "# use the variable name `names_to_replace`\n",
        "names_to_replace = list(counts[counts<10].index)\n",
        "\n",
        "# Replace in dataframe\n",
        "for app in names_to_replace:\n",
        "    application_df['NAME'] = application_df['NAME'].replace(app,\"Other\")\n",
        "\n",
        "# Check to make sure binning was successful\n",
        "application_df['NAME'].value_counts()"
      ]
    },
    {
      "cell_type": "code",
      "execution_count": 5,
      "metadata": {
        "colab": {
          "base_uri": "https://localhost:8080/"
        },
        "id": "9NKyPGHtPhkO",
        "outputId": "c503555e-e8f0-4efb-9f32-3ad5b2ff3699"
      },
      "outputs": [
        {
          "output_type": "execute_result",
          "data": {
            "text/plain": [
              "C1000    17326\n",
              "C2000     6074\n",
              "C1200     4837\n",
              "C3000     1918\n",
              "C2100     1883\n",
              "         ...  \n",
              "C4120        1\n",
              "C8210        1\n",
              "C2561        1\n",
              "C4500        1\n",
              "C2150        1\n",
              "Name: CLASSIFICATION, Length: 71, dtype: int64"
            ]
          },
          "metadata": {},
          "execution_count": 5
        }
      ],
      "source": [
        "# Look at CLASSIFICATION value counts for binning\n",
        "classification_counts = application_df['CLASSIFICATION'].value_counts()\n",
        "classification_counts"
      ]
    },
    {
      "cell_type": "code",
      "execution_count": 6,
      "metadata": {
        "colab": {
          "base_uri": "https://localhost:8080/"
        },
        "id": "8V4PwbtIPhkO",
        "outputId": "99d6ca14-ac66-4b41-de38-444ce161e8b1"
      },
      "outputs": [
        {
          "output_type": "execute_result",
          "data": {
            "text/plain": [
              "C1000    17326\n",
              "C2000     6074\n",
              "C1200     4837\n",
              "C3000     1918\n",
              "C2100     1883\n",
              "C7000      777\n",
              "C1700      287\n",
              "C4000      194\n",
              "C5000      116\n",
              "C1270      114\n",
              "C2700      104\n",
              "C2800       95\n",
              "C7100       75\n",
              "C1300       58\n",
              "C1280       50\n",
              "C1230       36\n",
              "C1400       34\n",
              "C7200       32\n",
              "C2300       32\n",
              "C1240       30\n",
              "C8000       20\n",
              "C7120       18\n",
              "C1500       16\n",
              "C1800       15\n",
              "C6000       15\n",
              "C1250       14\n",
              "C8200       11\n",
              "C1238       10\n",
              "C1278       10\n",
              "C1235        9\n",
              "C1237        9\n",
              "C7210        7\n",
              "C2400        6\n",
              "C1720        6\n",
              "C4100        6\n",
              "C1257        5\n",
              "C1600        5\n",
              "C1260        3\n",
              "C2710        3\n",
              "C0           3\n",
              "C3200        2\n",
              "C1234        2\n",
              "C1246        2\n",
              "C1267        2\n",
              "C1256        2\n",
              "Name: CLASSIFICATION, dtype: int64"
            ]
          },
          "metadata": {},
          "execution_count": 6
        }
      ],
      "source": [
        "# You may find it helpful to look at CLASSIFICATION value counts >1\n",
        "classification_counts[classification_counts > 1]"
      ]
    },
    {
      "cell_type": "code",
      "execution_count": 7,
      "metadata": {
        "colab": {
          "base_uri": "https://localhost:8080/"
        },
        "id": "g4zoPMYnPhkP",
        "outputId": "f15391c8-4193-45ed-a8e3-af8703b156ff"
      },
      "outputs": [
        {
          "output_type": "execute_result",
          "data": {
            "text/plain": [
              "C1000    17326\n",
              "C2000     6074\n",
              "Other     6062\n",
              "C1200     4837\n",
              "Name: CLASSIFICATION, dtype: int64"
            ]
          },
          "metadata": {},
          "execution_count": 7
        }
      ],
      "source": [
        "# Choose a cutoff value and create a list of classifications to be replaced\n",
        "# use the variable name `classifications_to_replace`\n",
        "classifications_to_replace = list(classification_counts[classification_counts < 2000].index)\n",
        "\n",
        "# Replace in dataframe\n",
        "for cls in classifications_to_replace:\n",
        "    application_df['CLASSIFICATION'] = application_df['CLASSIFICATION'].replace(cls,\"Other\")\n",
        "    \n",
        "# Check to make sure binning was successful\n",
        "application_df['CLASSIFICATION'].value_counts()"
      ]
    },
    {
      "cell_type": "code",
      "execution_count": 8,
      "metadata": {
        "id": "FQ6ET5QePhkP"
      },
      "outputs": [],
      "source": [
        "# Convert categorical data to numeric with `pd.get_dummies`\n",
        "application_numeric = pd.get_dummies(application_df)"
      ]
    },
    {
      "cell_type": "code",
      "execution_count": 9,
      "metadata": {
        "id": "oHwYTqqmPhkQ"
      },
      "outputs": [],
      "source": [
        "# Split our preprocessed data into our features and target arrays\n",
        "X = application_numeric.drop('IS_SUCCESSFUL', axis=1)\n",
        "y = application_numeric['IS_SUCCESSFUL']\n",
        "\n",
        "# Split the preprocessed data into a training and testing dataset\n",
        "X_train, X_test, y_train, y_test = train_test_split(X, y, random_state=42)"
      ]
    },
    {
      "cell_type": "code",
      "execution_count": 10,
      "metadata": {
        "id": "Rtje5ELaPhkQ"
      },
      "outputs": [],
      "source": [
        "# Create a StandardScaler instances\n",
        "scaler = StandardScaler()\n",
        "\n",
        "# Fit the StandardScaler\n",
        "X_scaler = scaler.fit(X_train)\n",
        "\n",
        "# Scale the data\n",
        "X_train_scaled = X_scaler.transform(X_train)\n",
        "X_test_scaled = X_scaler.transform(X_test)"
      ]
    },
    {
      "cell_type": "markdown",
      "metadata": {
        "id": "rwcaIKc9PhkQ"
      },
      "source": [
        "## Compile, Train and Evaluate the Model"
      ]
    },
    {
      "cell_type": "code",
      "execution_count": 64,
      "metadata": {
        "colab": {
          "base_uri": "https://localhost:8080/"
        },
        "id": "ov-DJ4OiPhkQ",
        "outputId": "b7d078da-5b92-4ade-bfcd-4f839df60a78"
      },
      "outputs": [
        {
          "output_type": "stream",
          "name": "stdout",
          "text": [
            "Model: \"sequential_15\"\n",
            "_________________________________________________________________\n",
            " Layer (type)                Output Shape              Param #   \n",
            "=================================================================\n",
            " dense_60 (Dense)            (None, 20)                5460      \n",
            "                                                                 \n",
            " dense_61 (Dense)            (None, 27)                567       \n",
            "                                                                 \n",
            " dense_62 (Dense)            (None, 3)                 84        \n",
            "                                                                 \n",
            " dense_63 (Dense)            (None, 1)                 4         \n",
            "                                                                 \n",
            "=================================================================\n",
            "Total params: 6,115\n",
            "Trainable params: 6,115\n",
            "Non-trainable params: 0\n",
            "_________________________________________________________________\n"
          ]
        }
      ],
      "source": [
        "# Define the model - deep neural net, i.e., the number of input features and hidden nodes for each layer.\n",
        "input_features = X_train_scaled.shape[1]\n",
        "hidden_nodes1=20\n",
        "hidden_nodes2=27\n",
        "hidden_nodes3=3\n",
        "\n",
        "nn = tf.keras.models.Sequential()\n",
        "\n",
        "# First hidden layer\n",
        "nn.add(tf.keras.layers.Dense(units=hidden_nodes1, input_dim=input_features, activation='relu'))\n",
        "\n",
        "# Second hidden layer\n",
        "nn.add(tf.keras.layers.Dense(units=hidden_nodes2, activation='sigmoid'))\n",
        "\n",
        "# Third hidden layer\n",
        "nn.add(tf.keras.layers.Dense(units=hidden_nodes3, activation='sigmoid'))\n",
        "\n",
        "# Output layer\n",
        "nn.add(tf.keras.layers.Dense(units=1, activation='sigmoid'))\n",
        "\n",
        "# Check the structure of the model\n",
        "nn.summary()"
      ]
    },
    {
      "cell_type": "code",
      "execution_count": 65,
      "metadata": {
        "id": "Oozeq1koPhkQ"
      },
      "outputs": [],
      "source": [
        "# Compile the model\n",
        "nn.compile(loss=\"binary_crossentropy\", optimizer=\"adam\", metrics=[\"accuracy\"])"
      ]
    },
    {
      "cell_type": "code",
      "execution_count": 66,
      "metadata": {
        "colab": {
          "base_uri": "https://localhost:8080/"
        },
        "id": "z80uMwIkgND7",
        "outputId": "a875b0ac-1d36-4c52-c69f-e05838690ede"
      },
      "outputs": [
        {
          "output_type": "stream",
          "name": "stderr",
          "text": [
            "WARNING:tensorflow:`period` argument is deprecated. Please use `save_freq` to specify the frequency in number of batches seen.\n"
          ]
        }
      ],
      "source": [
        "# create directory if it does not exist\n",
        "if not os.path.exists('/content/drive/MyDrive/deep-learning-challenge/models/model_4'):\n",
        "    os.makedirs('/content/drive/MyDrive/deep-learning-challenge/models/model_4')\n",
        "# Create a callback that saves the model's weights every five epochs\n",
        "checkpoint_path = \"/content/drive/MyDrive/deep-learning-challenge/models/model_4/weights.{epoch:02d}.hdf5\"\n",
        "checkpoint_callback = ModelCheckpoint(filepath=checkpoint_path, verbose=1, save_weights_only=True, save_freq='epoch', period=5)"
      ]
    },
    {
      "cell_type": "code",
      "execution_count": 67,
      "metadata": {
        "colab": {
          "base_uri": "https://localhost:8080/"
        },
        "id": "CtZAjxjYPhkR",
        "outputId": "31046b88-0913-42ba-f87d-a71ddfb6577a"
      },
      "outputs": [
        {
          "output_type": "stream",
          "name": "stdout",
          "text": [
            "Epoch 1/100\n",
            "804/804 [==============================] - 5s 4ms/step - loss: 0.5480 - accuracy: 0.7538\n",
            "Epoch 2/100\n",
            "804/804 [==============================] - 2s 3ms/step - loss: 0.4787 - accuracy: 0.7841\n",
            "Epoch 3/100\n",
            "804/804 [==============================] - 2s 2ms/step - loss: 0.4652 - accuracy: 0.7874\n",
            "Epoch 4/100\n",
            "804/804 [==============================] - 2s 2ms/step - loss: 0.4578 - accuracy: 0.7855\n",
            "Epoch 5/100\n",
            "797/804 [============================>.] - ETA: 0s - loss: 0.4520 - accuracy: 0.7883\n",
            "Epoch 5: saving model to /content/drive/MyDrive/deep-learning-challenge/models/model_4/weights.05.hdf5\n",
            "804/804 [==============================] - 2s 3ms/step - loss: 0.4522 - accuracy: 0.7881\n",
            "Epoch 6/100\n",
            "804/804 [==============================] - 4s 5ms/step - loss: 0.4488 - accuracy: 0.7885\n",
            "Epoch 7/100\n",
            "804/804 [==============================] - 3s 4ms/step - loss: 0.4460 - accuracy: 0.7893\n",
            "Epoch 8/100\n",
            "804/804 [==============================] - 2s 3ms/step - loss: 0.4442 - accuracy: 0.7879\n",
            "Epoch 9/100\n",
            "804/804 [==============================] - 2s 3ms/step - loss: 0.4424 - accuracy: 0.7886\n",
            "Epoch 10/100\n",
            "788/804 [============================>.] - ETA: 0s - loss: 0.4412 - accuracy: 0.7888\n",
            "Epoch 10: saving model to /content/drive/MyDrive/deep-learning-challenge/models/model_4/weights.10.hdf5\n",
            "804/804 [==============================] - 2s 3ms/step - loss: 0.4408 - accuracy: 0.7890\n",
            "Epoch 11/100\n",
            "804/804 [==============================] - 2s 3ms/step - loss: 0.4399 - accuracy: 0.7887\n",
            "Epoch 12/100\n",
            "804/804 [==============================] - 2s 3ms/step - loss: 0.4386 - accuracy: 0.7893\n",
            "Epoch 13/100\n",
            "804/804 [==============================] - 4s 4ms/step - loss: 0.4379 - accuracy: 0.7898\n",
            "Epoch 14/100\n",
            "804/804 [==============================] - 2s 3ms/step - loss: 0.4368 - accuracy: 0.7904\n",
            "Epoch 15/100\n",
            "799/804 [============================>.] - ETA: 0s - loss: 0.4360 - accuracy: 0.7901\n",
            "Epoch 15: saving model to /content/drive/MyDrive/deep-learning-challenge/models/model_4/weights.15.hdf5\n",
            "804/804 [==============================] - 2s 3ms/step - loss: 0.4359 - accuracy: 0.7900\n",
            "Epoch 16/100\n",
            "804/804 [==============================] - 2s 3ms/step - loss: 0.4352 - accuracy: 0.7905\n",
            "Epoch 17/100\n",
            "804/804 [==============================] - 2s 3ms/step - loss: 0.4346 - accuracy: 0.7905\n",
            "Epoch 18/100\n",
            "804/804 [==============================] - 3s 3ms/step - loss: 0.4341 - accuracy: 0.7911\n",
            "Epoch 19/100\n",
            "804/804 [==============================] - 3s 4ms/step - loss: 0.4331 - accuracy: 0.7905\n",
            "Epoch 20/100\n",
            "789/804 [============================>.] - ETA: 0s - loss: 0.4328 - accuracy: 0.7913\n",
            "Epoch 20: saving model to /content/drive/MyDrive/deep-learning-challenge/models/model_4/weights.20.hdf5\n",
            "804/804 [==============================] - 2s 3ms/step - loss: 0.4326 - accuracy: 0.7912\n",
            "Epoch 21/100\n",
            "804/804 [==============================] - 2s 3ms/step - loss: 0.4320 - accuracy: 0.7916\n",
            "Epoch 22/100\n",
            "804/804 [==============================] - 2s 3ms/step - loss: 0.4314 - accuracy: 0.7899\n",
            "Epoch 23/100\n",
            "804/804 [==============================] - 2s 3ms/step - loss: 0.4310 - accuracy: 0.7929\n",
            "Epoch 24/100\n",
            "804/804 [==============================] - 3s 3ms/step - loss: 0.4309 - accuracy: 0.7918\n",
            "Epoch 25/100\n",
            "797/804 [============================>.] - ETA: 0s - loss: 0.4299 - accuracy: 0.7922\n",
            "Epoch 25: saving model to /content/drive/MyDrive/deep-learning-challenge/models/model_4/weights.25.hdf5\n",
            "804/804 [==============================] - 4s 5ms/step - loss: 0.4301 - accuracy: 0.7921\n",
            "Epoch 26/100\n",
            "804/804 [==============================] - 2s 3ms/step - loss: 0.4295 - accuracy: 0.7923\n",
            "Epoch 27/100\n",
            "804/804 [==============================] - 2s 3ms/step - loss: 0.4292 - accuracy: 0.7907\n",
            "Epoch 28/100\n",
            "804/804 [==============================] - 2s 3ms/step - loss: 0.4290 - accuracy: 0.7925\n",
            "Epoch 29/100\n",
            "804/804 [==============================] - 2s 3ms/step - loss: 0.4290 - accuracy: 0.7926\n",
            "Epoch 30/100\n",
            "794/804 [============================>.] - ETA: 0s - loss: 0.4281 - accuracy: 0.7933\n",
            "Epoch 30: saving model to /content/drive/MyDrive/deep-learning-challenge/models/model_4/weights.30.hdf5\n",
            "804/804 [==============================] - 3s 4ms/step - loss: 0.4284 - accuracy: 0.7933\n",
            "Epoch 31/100\n",
            "804/804 [==============================] - 3s 4ms/step - loss: 0.4279 - accuracy: 0.7942\n",
            "Epoch 32/100\n",
            "804/804 [==============================] - 2s 3ms/step - loss: 0.4280 - accuracy: 0.7935\n",
            "Epoch 33/100\n",
            "804/804 [==============================] - 2s 3ms/step - loss: 0.4281 - accuracy: 0.7918\n",
            "Epoch 34/100\n",
            "804/804 [==============================] - 2s 3ms/step - loss: 0.4274 - accuracy: 0.7931\n",
            "Epoch 35/100\n",
            "791/804 [============================>.] - ETA: 0s - loss: 0.4270 - accuracy: 0.7935\n",
            "Epoch 35: saving model to /content/drive/MyDrive/deep-learning-challenge/models/model_4/weights.35.hdf5\n",
            "804/804 [==============================] - 3s 3ms/step - loss: 0.4270 - accuracy: 0.7932\n",
            "Epoch 36/100\n",
            "804/804 [==============================] - 4s 4ms/step - loss: 0.4270 - accuracy: 0.7934\n",
            "Epoch 37/100\n",
            "804/804 [==============================] - 3s 3ms/step - loss: 0.4267 - accuracy: 0.7932\n",
            "Epoch 38/100\n",
            "804/804 [==============================] - 2s 3ms/step - loss: 0.4265 - accuracy: 0.7933\n",
            "Epoch 39/100\n",
            "804/804 [==============================] - 2s 3ms/step - loss: 0.4261 - accuracy: 0.7937\n",
            "Epoch 40/100\n",
            "801/804 [============================>.] - ETA: 0s - loss: 0.4262 - accuracy: 0.7936\n",
            "Epoch 40: saving model to /content/drive/MyDrive/deep-learning-challenge/models/model_4/weights.40.hdf5\n",
            "804/804 [==============================] - 3s 3ms/step - loss: 0.4264 - accuracy: 0.7934\n",
            "Epoch 41/100\n",
            "804/804 [==============================] - 3s 4ms/step - loss: 0.4258 - accuracy: 0.7945\n",
            "Epoch 42/100\n",
            "804/804 [==============================] - 3s 4ms/step - loss: 0.4257 - accuracy: 0.7940\n",
            "Epoch 43/100\n",
            "804/804 [==============================] - 2s 3ms/step - loss: 0.4257 - accuracy: 0.7935\n",
            "Epoch 44/100\n",
            "804/804 [==============================] - 2s 3ms/step - loss: 0.4254 - accuracy: 0.7929\n",
            "Epoch 45/100\n",
            "797/804 [============================>.] - ETA: 0s - loss: 0.4254 - accuracy: 0.7952\n",
            "Epoch 45: saving model to /content/drive/MyDrive/deep-learning-challenge/models/model_4/weights.45.hdf5\n",
            "804/804 [==============================] - 3s 4ms/step - loss: 0.4253 - accuracy: 0.7949\n",
            "Epoch 46/100\n",
            "804/804 [==============================] - 3s 3ms/step - loss: 0.4251 - accuracy: 0.7940\n",
            "Epoch 47/100\n",
            "804/804 [==============================] - 4s 5ms/step - loss: 0.4250 - accuracy: 0.7937\n",
            "Epoch 48/100\n",
            "804/804 [==============================] - 2s 3ms/step - loss: 0.4248 - accuracy: 0.7941\n",
            "Epoch 49/100\n",
            "804/804 [==============================] - 2s 3ms/step - loss: 0.4242 - accuracy: 0.7947\n",
            "Epoch 50/100\n",
            "797/804 [============================>.] - ETA: 0s - loss: 0.4242 - accuracy: 0.7933\n",
            "Epoch 50: saving model to /content/drive/MyDrive/deep-learning-challenge/models/model_4/weights.50.hdf5\n",
            "804/804 [==============================] - 3s 3ms/step - loss: 0.4243 - accuracy: 0.7932\n",
            "Epoch 51/100\n",
            "804/804 [==============================] - 2s 3ms/step - loss: 0.4243 - accuracy: 0.7942\n",
            "Epoch 52/100\n",
            "804/804 [==============================] - 3s 4ms/step - loss: 0.4239 - accuracy: 0.7955\n",
            "Epoch 53/100\n",
            "804/804 [==============================] - 3s 4ms/step - loss: 0.4243 - accuracy: 0.7950\n",
            "Epoch 54/100\n",
            "804/804 [==============================] - 2s 3ms/step - loss: 0.4239 - accuracy: 0.7945\n",
            "Epoch 55/100\n",
            "792/804 [============================>.] - ETA: 0s - loss: 0.4238 - accuracy: 0.7942\n",
            "Epoch 55: saving model to /content/drive/MyDrive/deep-learning-challenge/models/model_4/weights.55.hdf5\n",
            "804/804 [==============================] - 3s 3ms/step - loss: 0.4239 - accuracy: 0.7945\n",
            "Epoch 56/100\n",
            "804/804 [==============================] - 2s 3ms/step - loss: 0.4232 - accuracy: 0.7945\n",
            "Epoch 57/100\n",
            "804/804 [==============================] - 3s 4ms/step - loss: 0.4234 - accuracy: 0.7956\n",
            "Epoch 58/100\n",
            "804/804 [==============================] - 4s 4ms/step - loss: 0.4231 - accuracy: 0.7952\n",
            "Epoch 59/100\n",
            "804/804 [==============================] - 2s 3ms/step - loss: 0.4227 - accuracy: 0.7953\n",
            "Epoch 60/100\n",
            "791/804 [============================>.] - ETA: 0s - loss: 0.4232 - accuracy: 0.7950\n",
            "Epoch 60: saving model to /content/drive/MyDrive/deep-learning-challenge/models/model_4/weights.60.hdf5\n",
            "804/804 [==============================] - 3s 3ms/step - loss: 0.4226 - accuracy: 0.7954\n",
            "Epoch 61/100\n",
            "804/804 [==============================] - 2s 3ms/step - loss: 0.4225 - accuracy: 0.7949\n",
            "Epoch 62/100\n",
            "804/804 [==============================] - 3s 3ms/step - loss: 0.4225 - accuracy: 0.7940\n",
            "Epoch 63/100\n",
            "804/804 [==============================] - 4s 5ms/step - loss: 0.4226 - accuracy: 0.7946\n",
            "Epoch 64/100\n",
            "804/804 [==============================] - 3s 3ms/step - loss: 0.4222 - accuracy: 0.7948\n",
            "Epoch 65/100\n",
            "801/804 [============================>.] - ETA: 0s - loss: 0.4223 - accuracy: 0.7959\n",
            "Epoch 65: saving model to /content/drive/MyDrive/deep-learning-challenge/models/model_4/weights.65.hdf5\n",
            "804/804 [==============================] - 3s 3ms/step - loss: 0.4223 - accuracy: 0.7961\n",
            "Epoch 66/100\n",
            "804/804 [==============================] - 2s 3ms/step - loss: 0.4216 - accuracy: 0.7961\n",
            "Epoch 67/100\n",
            "804/804 [==============================] - 3s 3ms/step - loss: 0.4218 - accuracy: 0.7957\n",
            "Epoch 68/100\n",
            "804/804 [==============================] - 4s 4ms/step - loss: 0.4216 - accuracy: 0.7955\n",
            "Epoch 69/100\n",
            "804/804 [==============================] - 3s 4ms/step - loss: 0.4217 - accuracy: 0.7949\n",
            "Epoch 70/100\n",
            "800/804 [============================>.] - ETA: 0s - loss: 0.4211 - accuracy: 0.7949\n",
            "Epoch 70: saving model to /content/drive/MyDrive/deep-learning-challenge/models/model_4/weights.70.hdf5\n",
            "804/804 [==============================] - 3s 3ms/step - loss: 0.4215 - accuracy: 0.7946\n",
            "Epoch 71/100\n",
            "804/804 [==============================] - 3s 3ms/step - loss: 0.4214 - accuracy: 0.7960\n",
            "Epoch 72/100\n",
            "804/804 [==============================] - 2s 3ms/step - loss: 0.4214 - accuracy: 0.7961\n",
            "Epoch 73/100\n",
            "804/804 [==============================] - 4s 5ms/step - loss: 0.4210 - accuracy: 0.7957\n",
            "Epoch 74/100\n",
            "804/804 [==============================] - 3s 4ms/step - loss: 0.4211 - accuracy: 0.7965\n",
            "Epoch 75/100\n",
            "797/804 [============================>.] - ETA: 0s - loss: 0.4208 - accuracy: 0.7966\n",
            "Epoch 75: saving model to /content/drive/MyDrive/deep-learning-challenge/models/model_4/weights.75.hdf5\n",
            "804/804 [==============================] - 3s 3ms/step - loss: 0.4209 - accuracy: 0.7967\n",
            "Epoch 76/100\n",
            "804/804 [==============================] - 2s 3ms/step - loss: 0.4208 - accuracy: 0.7956\n",
            "Epoch 77/100\n",
            "804/804 [==============================] - 3s 3ms/step - loss: 0.4205 - accuracy: 0.7956\n",
            "Epoch 78/100\n",
            "804/804 [==============================] - 3s 4ms/step - loss: 0.4205 - accuracy: 0.7956\n",
            "Epoch 79/100\n",
            "804/804 [==============================] - 3s 4ms/step - loss: 0.4203 - accuracy: 0.7962\n",
            "Epoch 80/100\n",
            "804/804 [==============================] - ETA: 0s - loss: 0.4203 - accuracy: 0.7968\n",
            "Epoch 80: saving model to /content/drive/MyDrive/deep-learning-challenge/models/model_4/weights.80.hdf5\n",
            "804/804 [==============================] - 3s 3ms/step - loss: 0.4203 - accuracy: 0.7968\n",
            "Epoch 81/100\n",
            "804/804 [==============================] - 3s 3ms/step - loss: 0.4203 - accuracy: 0.7956\n",
            "Epoch 82/100\n",
            "804/804 [==============================] - 3s 3ms/step - loss: 0.4200 - accuracy: 0.7966\n",
            "Epoch 83/100\n",
            "804/804 [==============================] - 3s 4ms/step - loss: 0.4203 - accuracy: 0.7958\n",
            "Epoch 84/100\n",
            "804/804 [==============================] - 4s 4ms/step - loss: 0.4200 - accuracy: 0.7962\n",
            "Epoch 85/100\n",
            "790/804 [============================>.] - ETA: 0s - loss: 0.4197 - accuracy: 0.7954\n",
            "Epoch 85: saving model to /content/drive/MyDrive/deep-learning-challenge/models/model_4/weights.85.hdf5\n",
            "804/804 [==============================] - 3s 3ms/step - loss: 0.4199 - accuracy: 0.7950\n",
            "Epoch 86/100\n",
            "804/804 [==============================] - 3s 3ms/step - loss: 0.4195 - accuracy: 0.7974\n",
            "Epoch 87/100\n",
            "804/804 [==============================] - 3s 3ms/step - loss: 0.4198 - accuracy: 0.7966\n",
            "Epoch 88/100\n",
            "804/804 [==============================] - 3s 4ms/step - loss: 0.4197 - accuracy: 0.7963\n",
            "Epoch 89/100\n",
            "804/804 [==============================] - 4s 5ms/step - loss: 0.4197 - accuracy: 0.7970\n",
            "Epoch 90/100\n",
            "801/804 [============================>.] - ETA: 0s - loss: 0.4193 - accuracy: 0.7971\n",
            "Epoch 90: saving model to /content/drive/MyDrive/deep-learning-challenge/models/model_4/weights.90.hdf5\n",
            "804/804 [==============================] - 3s 3ms/step - loss: 0.4192 - accuracy: 0.7971\n",
            "Epoch 91/100\n",
            "804/804 [==============================] - 3s 3ms/step - loss: 0.4193 - accuracy: 0.7978\n",
            "Epoch 92/100\n",
            "804/804 [==============================] - 3s 3ms/step - loss: 0.4196 - accuracy: 0.7966\n",
            "Epoch 93/100\n",
            "804/804 [==============================] - 3s 3ms/step - loss: 0.4193 - accuracy: 0.7960\n",
            "Epoch 94/100\n",
            "804/804 [==============================] - 4s 4ms/step - loss: 0.4190 - accuracy: 0.7968\n",
            "Epoch 95/100\n",
            "793/804 [============================>.] - ETA: 0s - loss: 0.4188 - accuracy: 0.7965\n",
            "Epoch 95: saving model to /content/drive/MyDrive/deep-learning-challenge/models/model_4/weights.95.hdf5\n",
            "804/804 [==============================] - 3s 4ms/step - loss: 0.4185 - accuracy: 0.7965\n",
            "Epoch 96/100\n",
            "804/804 [==============================] - 2s 3ms/step - loss: 0.4190 - accuracy: 0.7963\n",
            "Epoch 97/100\n",
            "804/804 [==============================] - 2s 3ms/step - loss: 0.4185 - accuracy: 0.7968\n",
            "Epoch 98/100\n",
            "804/804 [==============================] - 3s 3ms/step - loss: 0.4186 - accuracy: 0.7975\n",
            "Epoch 99/100\n",
            "804/804 [==============================] - 4s 5ms/step - loss: 0.4187 - accuracy: 0.7965\n",
            "Epoch 100/100\n",
            "801/804 [============================>.] - ETA: 0s - loss: 0.4184 - accuracy: 0.7965\n",
            "Epoch 100: saving model to /content/drive/MyDrive/deep-learning-challenge/models/model_4/weights.100.hdf5\n",
            "804/804 [==============================] - 3s 4ms/step - loss: 0.4186 - accuracy: 0.7966\n"
          ]
        }
      ],
      "source": [
        "# Train the model\n",
        "fit_model = nn.fit(X_train_scaled,y_train,epochs=100, callbacks=[checkpoint_callback])"
      ]
    },
    {
      "cell_type": "code",
      "execution_count": 68,
      "metadata": {
        "colab": {
          "base_uri": "https://localhost:8080/"
        },
        "id": "VyxxyGUUPhkR",
        "outputId": "97f207a4-b3da-468f-aa4a-cbfe2640b269"
      },
      "outputs": [
        {
          "output_type": "stream",
          "name": "stdout",
          "text": [
            "268/268 - 1s - loss: 0.4634 - accuracy: 0.7802 - 889ms/epoch - 3ms/step\n",
            "Loss: 0.4634484350681305, Accuracy: 0.7801749110221863\n"
          ]
        }
      ],
      "source": [
        "# Evaluate the model using the test data\n",
        "model_loss, model_accuracy = nn.evaluate(X_test_scaled,y_test,verbose=2)\n",
        "print(f\"Loss: {model_loss}, Accuracy: {model_accuracy}\")"
      ]
    },
    {
      "cell_type": "code",
      "execution_count": 69,
      "metadata": {
        "id": "mcqvYgGhPhkR"
      },
      "outputs": [],
      "source": [
        "# Export our model to HDF5 file\n",
        "nn.save('/content/drive/MyDrive/deep-learning-challenge/models/model_4/AlphabetSoupCharity_Optimization3.h5')"
      ]
    }
  ],
  "metadata": {
    "colab": {
      "provenance": []
    },
    "kernelspec": {
      "display_name": "base",
      "language": "python",
      "name": "python3"
    },
    "language_info": {
      "codemirror_mode": {
        "name": "ipython",
        "version": 3
      },
      "file_extension": ".py",
      "mimetype": "text/x-python",
      "name": "python",
      "nbconvert_exporter": "python",
      "pygments_lexer": "ipython3",
      "version": "3.9.16"
    },
    "vscode": {
      "interpreter": {
        "hash": "8c037fba4ff11aa2ad992877a0fc7bc755fd31e456684bf69477f17c5390ea50"
      }
    }
  },
  "nbformat": 4,
  "nbformat_minor": 0
}