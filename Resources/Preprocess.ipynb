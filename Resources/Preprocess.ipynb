{
 "cells": [
  {
   "cell_type": "markdown",
   "metadata": {},
   "source": [
    "## Preprocessing"
   ]
  },
  {
   "cell_type": "code",
   "execution_count": 1,
   "metadata": {},
   "outputs": [
    {
     "data": {
      "text/html": [
       "<div>\n",
       "<style scoped>\n",
       "    .dataframe tbody tr th:only-of-type {\n",
       "        vertical-align: middle;\n",
       "    }\n",
       "\n",
       "    .dataframe tbody tr th {\n",
       "        vertical-align: top;\n",
       "    }\n",
       "\n",
       "    .dataframe thead th {\n",
       "        text-align: right;\n",
       "    }\n",
       "</style>\n",
       "<table border=\"1\" class=\"dataframe\">\n",
       "  <thead>\n",
       "    <tr style=\"text-align: right;\">\n",
       "      <th></th>\n",
       "      <th>EIN</th>\n",
       "      <th>NAME</th>\n",
       "      <th>APPLICATION_TYPE</th>\n",
       "      <th>AFFILIATION</th>\n",
       "      <th>CLASSIFICATION</th>\n",
       "      <th>USE_CASE</th>\n",
       "      <th>ORGANIZATION</th>\n",
       "      <th>STATUS</th>\n",
       "      <th>INCOME_AMT</th>\n",
       "      <th>SPECIAL_CONSIDERATIONS</th>\n",
       "      <th>ASK_AMT</th>\n",
       "      <th>IS_SUCCESSFUL</th>\n",
       "    </tr>\n",
       "  </thead>\n",
       "  <tbody>\n",
       "    <tr>\n",
       "      <th>0</th>\n",
       "      <td>10520599</td>\n",
       "      <td>BLUE KNIGHTS MOTORCYCLE CLUB</td>\n",
       "      <td>T10</td>\n",
       "      <td>Independent</td>\n",
       "      <td>C1000</td>\n",
       "      <td>ProductDev</td>\n",
       "      <td>Association</td>\n",
       "      <td>1</td>\n",
       "      <td>0</td>\n",
       "      <td>N</td>\n",
       "      <td>5000</td>\n",
       "      <td>1</td>\n",
       "    </tr>\n",
       "    <tr>\n",
       "      <th>1</th>\n",
       "      <td>10531628</td>\n",
       "      <td>AMERICAN CHESAPEAKE CLUB CHARITABLE TR</td>\n",
       "      <td>T3</td>\n",
       "      <td>Independent</td>\n",
       "      <td>C2000</td>\n",
       "      <td>Preservation</td>\n",
       "      <td>Co-operative</td>\n",
       "      <td>1</td>\n",
       "      <td>1-9999</td>\n",
       "      <td>N</td>\n",
       "      <td>108590</td>\n",
       "      <td>1</td>\n",
       "    </tr>\n",
       "    <tr>\n",
       "      <th>2</th>\n",
       "      <td>10547893</td>\n",
       "      <td>ST CLOUD PROFESSIONAL FIREFIGHTERS</td>\n",
       "      <td>T5</td>\n",
       "      <td>CompanySponsored</td>\n",
       "      <td>C3000</td>\n",
       "      <td>ProductDev</td>\n",
       "      <td>Association</td>\n",
       "      <td>1</td>\n",
       "      <td>0</td>\n",
       "      <td>N</td>\n",
       "      <td>5000</td>\n",
       "      <td>0</td>\n",
       "    </tr>\n",
       "    <tr>\n",
       "      <th>3</th>\n",
       "      <td>10553066</td>\n",
       "      <td>SOUTHSIDE ATHLETIC ASSOCIATION</td>\n",
       "      <td>T3</td>\n",
       "      <td>CompanySponsored</td>\n",
       "      <td>C2000</td>\n",
       "      <td>Preservation</td>\n",
       "      <td>Trust</td>\n",
       "      <td>1</td>\n",
       "      <td>10000-24999</td>\n",
       "      <td>N</td>\n",
       "      <td>6692</td>\n",
       "      <td>1</td>\n",
       "    </tr>\n",
       "    <tr>\n",
       "      <th>4</th>\n",
       "      <td>10556103</td>\n",
       "      <td>GENETIC RESEARCH INSTITUTE OF THE DESERT</td>\n",
       "      <td>T3</td>\n",
       "      <td>Independent</td>\n",
       "      <td>C1000</td>\n",
       "      <td>Heathcare</td>\n",
       "      <td>Trust</td>\n",
       "      <td>1</td>\n",
       "      <td>100000-499999</td>\n",
       "      <td>N</td>\n",
       "      <td>142590</td>\n",
       "      <td>1</td>\n",
       "    </tr>\n",
       "  </tbody>\n",
       "</table>\n",
       "</div>"
      ],
      "text/plain": [
       "        EIN                                      NAME APPLICATION_TYPE  \\\n",
       "0  10520599              BLUE KNIGHTS MOTORCYCLE CLUB              T10   \n",
       "1  10531628    AMERICAN CHESAPEAKE CLUB CHARITABLE TR               T3   \n",
       "2  10547893        ST CLOUD PROFESSIONAL FIREFIGHTERS               T5   \n",
       "3  10553066            SOUTHSIDE ATHLETIC ASSOCIATION               T3   \n",
       "4  10556103  GENETIC RESEARCH INSTITUTE OF THE DESERT               T3   \n",
       "\n",
       "        AFFILIATION CLASSIFICATION      USE_CASE  ORGANIZATION  STATUS  \\\n",
       "0       Independent          C1000    ProductDev   Association       1   \n",
       "1       Independent          C2000  Preservation  Co-operative       1   \n",
       "2  CompanySponsored          C3000    ProductDev   Association       1   \n",
       "3  CompanySponsored          C2000  Preservation         Trust       1   \n",
       "4       Independent          C1000     Heathcare         Trust       1   \n",
       "\n",
       "      INCOME_AMT SPECIAL_CONSIDERATIONS  ASK_AMT  IS_SUCCESSFUL  \n",
       "0              0                      N     5000              1  \n",
       "1         1-9999                      N   108590              1  \n",
       "2              0                      N     5000              0  \n",
       "3    10000-24999                      N     6692              1  \n",
       "4  100000-499999                      N   142590              1  "
      ]
     },
     "execution_count": 1,
     "metadata": {},
     "output_type": "execute_result"
    }
   ],
   "source": [
    "# Import our dependencies\n",
    "from sklearn.model_selection import train_test_split\n",
    "from sklearn.preprocessing import StandardScaler\n",
    "import pandas as pd\n",
    "import tensorflow as tf\n",
    "import os\n",
    "from tensorflow.keras.callbacks import ModelCheckpoint\n",
    "\n",
    "#  Import and read the charity_data.csv.\n",
    "import pandas as pd \n",
    "application_df = pd.read_csv(\"charity_data.csv\")\n",
    "application_df.head()"
   ]
  },
  {
   "cell_type": "code",
   "execution_count": 2,
   "metadata": {},
   "outputs": [],
   "source": [
    "# Drop the non-beneficial ID columns, 'EIN' and 'NAME'.\n",
    "application_df = application_df.drop(['EIN', 'NAME'], axis=1)"
   ]
  },
  {
   "cell_type": "code",
   "execution_count": 3,
   "metadata": {},
   "outputs": [
    {
     "data": {
      "text/plain": [
       "APPLICATION_TYPE            17\n",
       "AFFILIATION                  6\n",
       "CLASSIFICATION              71\n",
       "USE_CASE                     5\n",
       "ORGANIZATION                 4\n",
       "STATUS                       2\n",
       "INCOME_AMT                   9\n",
       "SPECIAL_CONSIDERATIONS       2\n",
       "ASK_AMT                   8747\n",
       "IS_SUCCESSFUL                2\n",
       "dtype: int64"
      ]
     },
     "execution_count": 3,
     "metadata": {},
     "output_type": "execute_result"
    }
   ],
   "source": [
    "# Determine the number of unique values in each column.\n",
    "application_df.nunique()"
   ]
  },
  {
   "cell_type": "code",
   "execution_count": 4,
   "metadata": {},
   "outputs": [
    {
     "data": {
      "text/plain": [
       "T3     27037\n",
       "T4      1542\n",
       "T6      1216\n",
       "T5      1173\n",
       "T19     1065\n",
       "T8       737\n",
       "T7       725\n",
       "T10      528\n",
       "T9       156\n",
       "T13       66\n",
       "T12       27\n",
       "T2        16\n",
       "T25        3\n",
       "T14        3\n",
       "T29        2\n",
       "T15        2\n",
       "T17        1\n",
       "Name: APPLICATION_TYPE, dtype: int64"
      ]
     },
     "execution_count": 4,
     "metadata": {},
     "output_type": "execute_result"
    }
   ],
   "source": [
    "# Look at APPLICATION_TYPE value counts for binning\n",
    "application_counts = application_df['APPLICATION_TYPE'].value_counts()\n",
    "application_counts"
   ]
  },
  {
   "cell_type": "code",
   "execution_count": 5,
   "metadata": {},
   "outputs": [
    {
     "data": {
      "text/plain": [
       "T3       27037\n",
       "T4        1542\n",
       "T6        1216\n",
       "T5        1173\n",
       "T19       1065\n",
       "T8         737\n",
       "T7         725\n",
       "T10        528\n",
       "Other      276\n",
       "Name: APPLICATION_TYPE, dtype: int64"
      ]
     },
     "execution_count": 5,
     "metadata": {},
     "output_type": "execute_result"
    }
   ],
   "source": [
    "# Choose a cutoff value and create a list of application types to be replaced\n",
    "# use the variable name `application_types_to_replace`\n",
    "application_types_to_replace = list(application_counts[application_counts < 500].index)\n",
    "\n",
    "# Replace in dataframe\n",
    "for app in application_types_to_replace:\n",
    "    application_df['APPLICATION_TYPE'] = application_df['APPLICATION_TYPE'].replace(app,\"Other\")\n",
    "\n",
    "# Check to make sure binning was successful\n",
    "application_df['APPLICATION_TYPE'].value_counts()"
   ]
  },
  {
   "cell_type": "code",
   "execution_count": 6,
   "metadata": {},
   "outputs": [
    {
     "data": {
      "text/plain": [
       "C1000    17326\n",
       "C2000     6074\n",
       "C1200     4837\n",
       "C3000     1918\n",
       "C2100     1883\n",
       "         ...  \n",
       "C4120        1\n",
       "C8210        1\n",
       "C2561        1\n",
       "C4500        1\n",
       "C2150        1\n",
       "Name: CLASSIFICATION, Length: 71, dtype: int64"
      ]
     },
     "execution_count": 6,
     "metadata": {},
     "output_type": "execute_result"
    }
   ],
   "source": [
    "# Look at CLASSIFICATION value counts for binning\n",
    "classification_counts = application_df['CLASSIFICATION'].value_counts()\n",
    "classification_counts"
   ]
  },
  {
   "cell_type": "code",
   "execution_count": 7,
   "metadata": {},
   "outputs": [],
   "source": [
    "# You may find it helpful to look at CLASSIFICATION value counts >1\n",
    "#  YOUR CODE GOES HERE"
   ]
  },
  {
   "cell_type": "code",
   "execution_count": 8,
   "metadata": {},
   "outputs": [
    {
     "data": {
      "text/plain": [
       "C1000    17326\n",
       "C2000     6074\n",
       "C1200     4837\n",
       "Other     2261\n",
       "C3000     1918\n",
       "C2100     1883\n",
       "Name: CLASSIFICATION, dtype: int64"
      ]
     },
     "execution_count": 8,
     "metadata": {},
     "output_type": "execute_result"
    }
   ],
   "source": [
    "# Choose a cutoff value and create a list of classifications to be replaced\n",
    "# use the variable name `classifications_to_replace`\n",
    "classifications_to_replace = list(classification_counts[classification_counts < 1000].index)\n",
    "\n",
    "# Replace in dataframe\n",
    "for cls in classifications_to_replace:\n",
    "    application_df['CLASSIFICATION'] = application_df['CLASSIFICATION'].replace(cls,\"Other\")\n",
    "    \n",
    "# Check to make sure binning was successful\n",
    "application_df['CLASSIFICATION'].value_counts()"
   ]
  },
  {
   "cell_type": "code",
   "execution_count": 9,
   "metadata": {},
   "outputs": [],
   "source": [
    "# Convert categorical data to numeric with `pd.get_dummies`\n",
    "application_numeric = pd.get_dummies(application_df)"
   ]
  },
  {
   "cell_type": "code",
   "execution_count": 10,
   "metadata": {},
   "outputs": [],
   "source": [
    "# Split our preprocessed data into our features and target arrays\n",
    "X = application_numeric.drop('IS_SUCCESSFUL', axis=1)\n",
    "y = application_numeric['IS_SUCCESSFUL']\n",
    "\n",
    "# Split the preprocessed data into a training and testing dataset\n",
    "X_train, X_test, y_train, y_test = train_test_split(X, y, random_state=42)"
   ]
  },
  {
   "cell_type": "code",
   "execution_count": 11,
   "metadata": {},
   "outputs": [],
   "source": [
    "# Create a StandardScaler instances\n",
    "scaler = StandardScaler()\n",
    "\n",
    "# Fit the StandardScaler\n",
    "X_scaler = scaler.fit(X_train)\n",
    "\n",
    "# Scale the data\n",
    "X_train_scaled = X_scaler.transform(X_train)\n",
    "X_test_scaled = X_scaler.transform(X_test)"
   ]
  },
  {
   "cell_type": "markdown",
   "metadata": {},
   "source": [
    "## Compile, Train and Evaluate the Model"
   ]
  },
  {
   "cell_type": "code",
   "execution_count": 12,
   "metadata": {},
   "outputs": [
    {
     "name": "stdout",
     "output_type": "stream",
     "text": [
      "Model: \"sequential\"\n",
      "_________________________________________________________________\n",
      " Layer (type)                Output Shape              Param #   \n",
      "=================================================================\n",
      " dense (Dense)               (None, 8)                 352       \n",
      "                                                                 \n",
      " dense_1 (Dense)             (None, 5)                 45        \n",
      "                                                                 \n",
      " dense_2 (Dense)             (None, 1)                 6         \n",
      "                                                                 \n",
      "=================================================================\n",
      "Total params: 403\n",
      "Trainable params: 403\n",
      "Non-trainable params: 0\n",
      "_________________________________________________________________\n"
     ]
    }
   ],
   "source": [
    "# Define the model - deep neural net, i.e., the number of input features and hidden nodes for each layer.\n",
    "number_input_features = len(X_train_scaled[0])\n",
    "hidden_nodes_layer1 =  8\n",
    "hidden_nodes_layer2 = 5\n",
    "\n",
    "nn = tf.keras.models.Sequential()\n",
    "\n",
    "# First hidden layer\n",
    "nn.add(tf.keras.layers.Dense(units=hidden_nodes_layer1, input_dim=number_input_features, activation=\"relu\"))\n",
    "\n",
    "# Second hidden layer\n",
    "nn.add(tf.keras.layers.Dense(units=hidden_nodes_layer2, activation=\"relu\"))\n",
    "\n",
    "# Output layer\n",
    "nn.add(tf.keras.layers.Dense(units=1, activation=\"sigmoid\"))\n",
    "\n",
    "# Check the structure of the model\n",
    "nn.summary()"
   ]
  },
  {
   "cell_type": "code",
   "execution_count": 13,
   "metadata": {},
   "outputs": [],
   "source": [
    "# Compile the model\n",
    "nn.compile(loss=\"binary_crossentropy\", optimizer=\"adam\", metrics=[\"accuracy\"])"
   ]
  },
  {
   "cell_type": "code",
   "execution_count": 14,
   "metadata": {},
   "outputs": [
    {
     "name": "stdout",
     "output_type": "stream",
     "text": [
      "WARNING:tensorflow:`period` argument is deprecated. Please use `save_freq` to specify the frequency in number of batches seen.\n"
     ]
    }
   ],
   "source": [
    "#advise from jeremy tallant\n",
    "# create directory if it does not exist\n",
    "if not os.path.exists('models\\model_1'):\n",
    "    os.makedirs('models\\model_1')\n",
    "# Create a callback that saves the model's weights every five epochs\n",
    "checkpoint_path = \"models\\model_1\\weights.{epoch:02d}.hdf5\"\n",
    "checkpoint_callback = ModelCheckpoint(filepath=checkpoint_path, verbose=1, save_weights_only=True, save_freq='epoch', period=5)"
   ]
  },
  {
   "cell_type": "code",
   "execution_count": 15,
   "metadata": {},
   "outputs": [
    {
     "name": "stdout",
     "output_type": "stream",
     "text": [
      "Epoch 1/100\n",
      "804/804 [==============================] - 1s 955us/step - loss: 0.6541 - accuracy: 0.6515\n",
      "Epoch 2/100\n",
      "804/804 [==============================] - 1s 893us/step - loss: 0.5730 - accuracy: 0.7207\n",
      "Epoch 3/100\n",
      "804/804 [==============================] - 1s 891us/step - loss: 0.5634 - accuracy: 0.7243\n",
      "Epoch 4/100\n",
      "804/804 [==============================] - 1s 890us/step - loss: 0.5596 - accuracy: 0.7277\n",
      "Epoch 5/100\n",
      "782/804 [============================>.] - ETA: 0s - loss: 0.5571 - accuracy: 0.7281\n",
      "Epoch 5: saving model to models\\model_1\\weights.05.hdf5\n",
      "804/804 [==============================] - 1s 923us/step - loss: 0.5571 - accuracy: 0.7282\n",
      "Epoch 6/100\n",
      "804/804 [==============================] - 1s 998us/step - loss: 0.5546 - accuracy: 0.7287\n",
      "Epoch 7/100\n",
      "804/804 [==============================] - 1s 921us/step - loss: 0.5534 - accuracy: 0.7282\n",
      "Epoch 8/100\n",
      "804/804 [==============================] - 1s 875us/step - loss: 0.5528 - accuracy: 0.7288\n",
      "Epoch 9/100\n",
      "804/804 [==============================] - 1s 908us/step - loss: 0.5519 - accuracy: 0.7280\n",
      "Epoch 10/100\n",
      "756/804 [===========================>..] - ETA: 0s - loss: 0.5525 - accuracy: 0.7290\n",
      "Epoch 10: saving model to models\\model_1\\weights.10.hdf5\n",
      "804/804 [==============================] - 1s 883us/step - loss: 0.5514 - accuracy: 0.7300\n",
      "Epoch 11/100\n",
      "804/804 [==============================] - 1s 834us/step - loss: 0.5510 - accuracy: 0.7293\n",
      "Epoch 12/100\n",
      "804/804 [==============================] - 1s 822us/step - loss: 0.5503 - accuracy: 0.7299\n",
      "Epoch 13/100\n",
      "804/804 [==============================] - 1s 869us/step - loss: 0.5504 - accuracy: 0.7296\n",
      "Epoch 14/100\n",
      "804/804 [==============================] - 1s 826us/step - loss: 0.5501 - accuracy: 0.7304\n",
      "Epoch 15/100\n",
      "780/804 [============================>.] - ETA: 0s - loss: 0.5503 - accuracy: 0.7292\n",
      "Epoch 15: saving model to models\\model_1\\weights.15.hdf5\n",
      "804/804 [==============================] - 1s 922us/step - loss: 0.5496 - accuracy: 0.7297\n",
      "Epoch 16/100\n",
      "804/804 [==============================] - 1s 918us/step - loss: 0.5493 - accuracy: 0.7302\n",
      "Epoch 17/100\n",
      "804/804 [==============================] - 1s 891us/step - loss: 0.5493 - accuracy: 0.7303\n",
      "Epoch 18/100\n",
      "804/804 [==============================] - 1s 873us/step - loss: 0.5491 - accuracy: 0.7293\n",
      "Epoch 19/100\n",
      "804/804 [==============================] - 1s 919us/step - loss: 0.5489 - accuracy: 0.7306\n",
      "Epoch 20/100\n",
      "754/804 [===========================>..] - ETA: 0s - loss: 0.5474 - accuracy: 0.7302\n",
      "Epoch 20: saving model to models\\model_1\\weights.20.hdf5\n",
      "804/804 [==============================] - 1s 881us/step - loss: 0.5485 - accuracy: 0.7299\n",
      "Epoch 21/100\n",
      "804/804 [==============================] - 1s 832us/step - loss: 0.5487 - accuracy: 0.7311\n",
      "Epoch 22/100\n",
      "804/804 [==============================] - 1s 830us/step - loss: 0.5483 - accuracy: 0.7304\n",
      "Epoch 23/100\n",
      "804/804 [==============================] - 1s 863us/step - loss: 0.5481 - accuracy: 0.7301\n",
      "Epoch 24/100\n",
      "804/804 [==============================] - 1s 823us/step - loss: 0.5481 - accuracy: 0.7309\n",
      "Epoch 25/100\n",
      "792/804 [============================>.] - ETA: 0s - loss: 0.5483 - accuracy: 0.7310\n",
      "Epoch 25: saving model to models\\model_1\\weights.25.hdf5\n",
      "804/804 [==============================] - 1s 843us/step - loss: 0.5480 - accuracy: 0.7313\n",
      "Epoch 26/100\n",
      "804/804 [==============================] - 1s 837us/step - loss: 0.5477 - accuracy: 0.7310\n",
      "Epoch 27/100\n",
      "804/804 [==============================] - 1s 831us/step - loss: 0.5478 - accuracy: 0.7300\n",
      "Epoch 28/100\n",
      "804/804 [==============================] - 1s 830us/step - loss: 0.5474 - accuracy: 0.7314\n",
      "Epoch 29/100\n",
      "804/804 [==============================] - 1s 830us/step - loss: 0.5473 - accuracy: 0.7311\n",
      "Epoch 30/100\n",
      "788/804 [============================>.] - ETA: 0s - loss: 0.5475 - accuracy: 0.7310\n",
      "Epoch 30: saving model to models\\model_1\\weights.30.hdf5\n",
      "804/804 [==============================] - 1s 848us/step - loss: 0.5475 - accuracy: 0.7311\n",
      "Epoch 31/100\n",
      "804/804 [==============================] - 1s 842us/step - loss: 0.5474 - accuracy: 0.7313\n",
      "Epoch 32/100\n",
      "804/804 [==============================] - 1s 851us/step - loss: 0.5472 - accuracy: 0.7303\n",
      "Epoch 33/100\n",
      "804/804 [==============================] - 1s 846us/step - loss: 0.5471 - accuracy: 0.7310\n",
      "Epoch 34/100\n",
      "804/804 [==============================] - 1s 837us/step - loss: 0.5470 - accuracy: 0.7310\n",
      "Epoch 35/100\n",
      "762/804 [===========================>..] - ETA: 0s - loss: 0.5468 - accuracy: 0.7315\n",
      "Epoch 35: saving model to models\\model_1\\weights.35.hdf5\n",
      "804/804 [==============================] - 1s 876us/step - loss: 0.5469 - accuracy: 0.7317\n",
      "Epoch 36/100\n",
      "804/804 [==============================] - 1s 877us/step - loss: 0.5466 - accuracy: 0.7315\n",
      "Epoch 37/100\n",
      "804/804 [==============================] - 1s 962us/step - loss: 0.5468 - accuracy: 0.7310\n",
      "Epoch 38/100\n",
      "804/804 [==============================] - 1s 1ms/step - loss: 0.5466 - accuracy: 0.7314\n",
      "Epoch 39/100\n",
      "804/804 [==============================] - 1s 973us/step - loss: 0.5468 - accuracy: 0.7311\n",
      "Epoch 40/100\n",
      "783/804 [============================>.] - ETA: 0s - loss: 0.5457 - accuracy: 0.7310\n",
      "Epoch 40: saving model to models\\model_1\\weights.40.hdf5\n",
      "804/804 [==============================] - 1s 1ms/step - loss: 0.5464 - accuracy: 0.7308\n",
      "Epoch 41/100\n",
      "804/804 [==============================] - 1s 928us/step - loss: 0.5469 - accuracy: 0.7315\n",
      "Epoch 42/100\n",
      "804/804 [==============================] - 1s 1ms/step - loss: 0.5464 - accuracy: 0.7317\n",
      "Epoch 43/100\n",
      "804/804 [==============================] - 1s 875us/step - loss: 0.5464 - accuracy: 0.7319\n",
      "Epoch 44/100\n",
      "804/804 [==============================] - 1s 846us/step - loss: 0.5464 - accuracy: 0.7312\n",
      "Epoch 45/100\n",
      "767/804 [===========================>..] - ETA: 0s - loss: 0.5455 - accuracy: 0.7320\n",
      "Epoch 45: saving model to models\\model_1\\weights.45.hdf5\n",
      "804/804 [==============================] - 1s 870us/step - loss: 0.5462 - accuracy: 0.7315\n",
      "Epoch 46/100\n",
      "804/804 [==============================] - 1s 839us/step - loss: 0.5462 - accuracy: 0.7323\n",
      "Epoch 47/100\n",
      "804/804 [==============================] - 1s 838us/step - loss: 0.5460 - accuracy: 0.7319\n",
      "Epoch 48/100\n",
      "804/804 [==============================] - 1s 838us/step - loss: 0.5462 - accuracy: 0.7326\n",
      "Epoch 49/100\n",
      "804/804 [==============================] - 1s 892us/step - loss: 0.5462 - accuracy: 0.7309\n",
      "Epoch 50/100\n",
      "765/804 [===========================>..] - ETA: 0s - loss: 0.5454 - accuracy: 0.7324\n",
      "Epoch 50: saving model to models\\model_1\\weights.50.hdf5\n",
      "804/804 [==============================] - 1s 1ms/step - loss: 0.5462 - accuracy: 0.7318\n",
      "Epoch 51/100\n",
      "804/804 [==============================] - 1s 999us/step - loss: 0.5458 - accuracy: 0.7328\n",
      "Epoch 52/100\n",
      "804/804 [==============================] - 1s 876us/step - loss: 0.5462 - accuracy: 0.7322\n",
      "Epoch 53/100\n",
      "804/804 [==============================] - 1s 912us/step - loss: 0.5458 - accuracy: 0.7320\n",
      "Epoch 54/100\n",
      "804/804 [==============================] - 1s 904us/step - loss: 0.5458 - accuracy: 0.7322\n",
      "Epoch 55/100\n",
      "756/804 [===========================>..] - ETA: 0s - loss: 0.5453 - accuracy: 0.7321\n",
      "Epoch 55: saving model to models\\model_1\\weights.55.hdf5\n",
      "804/804 [==============================] - 1s 945us/step - loss: 0.5459 - accuracy: 0.7317\n",
      "Epoch 56/100\n",
      "804/804 [==============================] - 1s 843us/step - loss: 0.5458 - accuracy: 0.7321\n",
      "Epoch 57/100\n",
      "804/804 [==============================] - 1s 906us/step - loss: 0.5456 - accuracy: 0.7315\n",
      "Epoch 58/100\n",
      "804/804 [==============================] - 1s 896us/step - loss: 0.5457 - accuracy: 0.7327\n",
      "Epoch 59/100\n",
      "804/804 [==============================] - 1s 884us/step - loss: 0.5453 - accuracy: 0.7325\n",
      "Epoch 60/100\n",
      "778/804 [============================>.] - ETA: 0s - loss: 0.5454 - accuracy: 0.7318\n",
      "Epoch 60: saving model to models\\model_1\\weights.60.hdf5\n",
      "804/804 [==============================] - 1s 923us/step - loss: 0.5455 - accuracy: 0.7321\n",
      "Epoch 61/100\n",
      "804/804 [==============================] - 1s 940us/step - loss: 0.5455 - accuracy: 0.7322\n",
      "Epoch 62/100\n",
      "804/804 [==============================] - 1s 909us/step - loss: 0.5452 - accuracy: 0.7321\n",
      "Epoch 63/100\n"
     ]
    },
    {
     "name": "stdout",
     "output_type": "stream",
     "text": [
      "804/804 [==============================] - 1s 882us/step - loss: 0.5453 - accuracy: 0.7315\n",
      "Epoch 64/100\n",
      "804/804 [==============================] - 1s 878us/step - loss: 0.5453 - accuracy: 0.7318\n",
      "Epoch 65/100\n",
      "773/804 [===========================>..] - ETA: 0s - loss: 0.5446 - accuracy: 0.7330\n",
      "Epoch 65: saving model to models\\model_1\\weights.65.hdf5\n",
      "804/804 [==============================] - 1s 865us/step - loss: 0.5451 - accuracy: 0.7324\n",
      "Epoch 66/100\n",
      "804/804 [==============================] - 1s 924us/step - loss: 0.5450 - accuracy: 0.7325\n",
      "Epoch 67/100\n",
      "804/804 [==============================] - 1s 829us/step - loss: 0.5451 - accuracy: 0.7324\n",
      "Epoch 68/100\n",
      "804/804 [==============================] - 1s 838us/step - loss: 0.5451 - accuracy: 0.7325\n",
      "Epoch 69/100\n",
      "804/804 [==============================] - 1s 828us/step - loss: 0.5451 - accuracy: 0.7328\n",
      "Epoch 70/100\n",
      "786/804 [============================>.] - ETA: 0s - loss: 0.5455 - accuracy: 0.7329\n",
      "Epoch 70: saving model to models\\model_1\\weights.70.hdf5\n",
      "804/804 [==============================] - 1s 850us/step - loss: 0.5452 - accuracy: 0.7332\n",
      "Epoch 71/100\n",
      "804/804 [==============================] - 1s 846us/step - loss: 0.5449 - accuracy: 0.7327\n",
      "Epoch 72/100\n",
      "804/804 [==============================] - 1s 854us/step - loss: 0.5449 - accuracy: 0.7332\n",
      "Epoch 73/100\n",
      "804/804 [==============================] - 1s 842us/step - loss: 0.5450 - accuracy: 0.7326\n",
      "Epoch 74/100\n",
      "804/804 [==============================] - 1s 879us/step - loss: 0.5450 - accuracy: 0.7335\n",
      "Epoch 75/100\n",
      "756/804 [===========================>..] - ETA: 0s - loss: 0.5438 - accuracy: 0.7324\n",
      "Epoch 75: saving model to models\\model_1\\weights.75.hdf5\n",
      "804/804 [==============================] - 1s 886us/step - loss: 0.5445 - accuracy: 0.7323\n",
      "Epoch 76/100\n",
      "804/804 [==============================] - 1s 854us/step - loss: 0.5447 - accuracy: 0.7325\n",
      "Epoch 77/100\n",
      "804/804 [==============================] - 1s 825us/step - loss: 0.5447 - accuracy: 0.7331\n",
      "Epoch 78/100\n",
      "804/804 [==============================] - 1s 815us/step - loss: 0.5447 - accuracy: 0.7329\n",
      "Epoch 79/100\n",
      "804/804 [==============================] - 1s 835us/step - loss: 0.5447 - accuracy: 0.7324\n",
      "Epoch 80/100\n",
      "760/804 [===========================>..] - ETA: 0s - loss: 0.5456 - accuracy: 0.7324\n",
      "Epoch 80: saving model to models\\model_1\\weights.80.hdf5\n",
      "804/804 [==============================] - 1s 945us/step - loss: 0.5450 - accuracy: 0.7334\n",
      "Epoch 81/100\n",
      "804/804 [==============================] - 1s 892us/step - loss: 0.5448 - accuracy: 0.7334\n",
      "Epoch 82/100\n",
      "804/804 [==============================] - 1s 924us/step - loss: 0.5446 - accuracy: 0.7328\n",
      "Epoch 83/100\n",
      "804/804 [==============================] - 1s 1ms/step - loss: 0.5446 - accuracy: 0.7332\n",
      "Epoch 84/100\n",
      "804/804 [==============================] - 1s 970us/step - loss: 0.5447 - accuracy: 0.7337\n",
      "Epoch 85/100\n",
      "781/804 [============================>.] - ETA: 0s - loss: 0.5436 - accuracy: 0.7335\n",
      "Epoch 85: saving model to models\\model_1\\weights.85.hdf5\n",
      "804/804 [==============================] - 1s 984us/step - loss: 0.5444 - accuracy: 0.7331\n",
      "Epoch 86/100\n",
      "804/804 [==============================] - 1s 955us/step - loss: 0.5442 - accuracy: 0.7331\n",
      "Epoch 87/100\n",
      "804/804 [==============================] - 1s 923us/step - loss: 0.5447 - accuracy: 0.7341\n",
      "Epoch 88/100\n",
      "804/804 [==============================] - 1s 839us/step - loss: 0.5445 - accuracy: 0.7334\n",
      "Epoch 89/100\n",
      "804/804 [==============================] - 1s 841us/step - loss: 0.5445 - accuracy: 0.7335\n",
      "Epoch 90/100\n",
      "782/804 [============================>.] - ETA: 0s - loss: 0.5440 - accuracy: 0.7339\n",
      "Epoch 90: saving model to models\\model_1\\weights.90.hdf5\n",
      "804/804 [==============================] - 1s 854us/step - loss: 0.5445 - accuracy: 0.7335\n",
      "Epoch 91/100\n",
      "804/804 [==============================] - 1s 840us/step - loss: 0.5443 - accuracy: 0.7329\n",
      "Epoch 92/100\n",
      "804/804 [==============================] - 1s 831us/step - loss: 0.5444 - accuracy: 0.7344\n",
      "Epoch 93/100\n",
      "804/804 [==============================] - 1s 836us/step - loss: 0.5444 - accuracy: 0.7336\n",
      "Epoch 94/100\n",
      "804/804 [==============================] - 1s 828us/step - loss: 0.5444 - accuracy: 0.7332\n",
      "Epoch 95/100\n",
      "785/804 [============================>.] - ETA: 0s - loss: 0.5435 - accuracy: 0.7335\n",
      "Epoch 95: saving model to models\\model_1\\weights.95.hdf5\n",
      "804/804 [==============================] - 1s 851us/step - loss: 0.5443 - accuracy: 0.7332\n",
      "Epoch 96/100\n",
      "804/804 [==============================] - 1s 832us/step - loss: 0.5440 - accuracy: 0.7337\n",
      "Epoch 97/100\n",
      "804/804 [==============================] - 1s 829us/step - loss: 0.5443 - accuracy: 0.7343\n",
      "Epoch 98/100\n",
      "804/804 [==============================] - 1s 863us/step - loss: 0.5442 - accuracy: 0.7331\n",
      "Epoch 99/100\n",
      "804/804 [==============================] - 1s 848us/step - loss: 0.5442 - accuracy: 0.7332\n",
      "Epoch 100/100\n",
      "796/804 [============================>.] - ETA: 0s - loss: 0.5443 - accuracy: 0.7344\n",
      "Epoch 100: saving model to models\\model_1\\weights.100.hdf5\n",
      "804/804 [==============================] - 1s 899us/step - loss: 0.5442 - accuracy: 0.7343\n"
     ]
    }
   ],
   "source": [
    "# Train the model\n",
    "fit_model = nn.fit(X_train_scaled,y_train,epochs=100, callbacks=[checkpoint_callback])"
   ]
  },
  {
   "cell_type": "code",
   "execution_count": 16,
   "metadata": {},
   "outputs": [
    {
     "name": "stdout",
     "output_type": "stream",
     "text": [
      "268/268 - 0s - loss: 0.5522 - accuracy: 0.7338 - 277ms/epoch - 1ms/step\n",
      "Loss: 0.5521971583366394, Accuracy: 0.7337609529495239\n"
     ]
    }
   ],
   "source": [
    "# Evaluate the model using the test data\n",
    "model_loss, model_accuracy = nn.evaluate(X_test_scaled,y_test,verbose=2)\n",
    "print(f\"Loss: {model_loss}, Accuracy: {model_accuracy}\")"
   ]
  },
  {
   "cell_type": "code",
   "execution_count": 17,
   "metadata": {},
   "outputs": [],
   "source": [
    "# Export our model to HDF5 file\n",
    "nn.save('models/model_1/AlphabetSoupCharity.h5')"
   ]
  },
  {
   "cell_type": "code",
   "execution_count": null,
   "metadata": {},
   "outputs": [],
   "source": []
  }
 ],
 "metadata": {
  "kernelspec": {
   "display_name": "Python 3 (ipykernel)",
   "language": "python",
   "name": "python3"
  },
  "language_info": {
   "codemirror_mode": {
    "name": "ipython",
    "version": 3
   },
   "file_extension": ".py",
   "mimetype": "text/x-python",
   "name": "python",
   "nbconvert_exporter": "python",
   "pygments_lexer": "ipython3",
   "version": "3.9.16"
  }
 },
 "nbformat": 4,
 "nbformat_minor": 4
}
